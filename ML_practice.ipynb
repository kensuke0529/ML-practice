{
 "cells": [
  {
   "cell_type": "markdown",
   "metadata": {},
   "source": [
    "A DVD rental company needs your help! They want to figure out how many days a customer will rent a DVD for based on some features and has approached you for help. They want you to try out some regression models which will help predict the number of days a customer will rent a DVD for. The company wants a model which yeilds a MSE of 3 or less on a test set. The model you make will help the company become more efficient inventory planning.\n",
    "\n",
    "The data they provided is in the csv file `rental_info.csv`. It has the following features:\n",
    "- `\"rental_date\"`: The date (and time) the customer rents the DVD.\n",
    "- `\"return_date\"`: The date (and time) the customer returns the DVD.\n",
    "- `\"amount\"`: The amount paid by the customer for renting the DVD.\n",
    "- `\"amount_2\"`: The square of `\"amount\"`.\n",
    "- `\"rental_rate\"`: The rate at which the DVD is rented for.\n",
    "- `\"rental_rate_2\"`: The square of `\"rental_rate\"`.\n",
    "- `\"release_year\"`: The year the movie being rented was released.\n",
    "- `\"length\"`: Lenght of the movie being rented, in minuites.\n",
    "- `\"length_2\"`: The square of `\"length\"`.\n",
    "- `\"replacement_cost\"`: The amount it will cost the company to replace the DVD.\n",
    "- `\"special_features\"`: Any special features, for example trailers/deleted scenes that the DVD also has.\n",
    "- `\"NC-17\"`, `\"PG\"`, `\"PG-13\"`, `\"R\"`: These columns are dummy variables of the rating of the movie. It takes the value 1 if the move is rated as the column name and 0 otherwise. For your convinience, the reference dummy has already been dropped."
   ]
  },
  {
   "cell_type": "code",
   "execution_count": null,
   "metadata": {},
   "outputs": [],
   "source": [
    "import pandas as pd\n",
    "import numpy as np\n",
    "from sklearn.model_selection import train_test_split, RandomizedSearchCV, cross_val_score\n",
    "from sklearn.metrics import mean_squared_error, r2_score\n",
    "from sklearn.linear_model import LinearRegression\n",
    "from sklearn.ensemble import RandomForestRegressor\n",
    "import matplotlib.pyplot as plt\n",
    "import xgboost as xgb\n",
    "\n",
    "\n",
    "\n",
    "# Import any additional modules and start coding below\n",
    "df = pd.read_csv('rental_info.csv')\n",
    "\n",
    "# to calculate rental length days, change datatype to datetime format\n",
    "df['rental_date'] = pd.to_datetime(df['rental_date'])\n",
    "df['return_date'] = pd.to_datetime(df['return_date'])\n",
    "\n",
    "# calculate date diff\n",
    "df['rental_length_days'] = (df['return_date'] - df['rental_date']).dt.days\n",
    "\n",
    "# adding dummy variables using special features column\n",
    "df['deleted_scenes'] = np.where(df['special_features'].str.contains(\"Deleted Scenes\"),1,0)\n",
    "df['behind_the_scenes'] = np.where(df['special_features'].str.contains(\"Behind the Scenes\"),1,0)\n",
    "\n",
    "# Separate target data from df and drop redundant columns\n",
    "X = df.drop(['special_features','rental_date','return_date','rental_length_days'], axis=1)\n",
    "y = df['rental_length_days']"
   ]
  },
  {
   "cell_type": "code",
   "execution_count": null,
   "metadata": {},
   "outputs": [
    {
     "name": "stdout",
     "output_type": "stream",
     "text": [
      "lr_mse: 4.846638768993796\n",
      "rf_mse: 2.3608479570462744\n",
      "ridge_mse: 4.846638777205595\n",
      "lasso_mse: 5.0730960365868\n"
     ]
    }
   ],
   "source": [
    "# split data into train and test data\n",
    "X_train, X_test, y_train , y_test = train_test_split(X, y, test_size= 0.2, random_state= 9)\n",
    "\n",
    "# Performing feature selection\n",
    "lasso = Lasso(alpha=0.01, random_state=9)  \n",
    "lasso.fit(X_train, y_train)\n",
    "lasso_coef = lasso.coef_\n",
    " \n",
    "X_train_selected = X_train.loc[:, lasso_coef > 0]\n",
    "X_test_selected = X_test.loc[:, lasso_coef > 0]\n",
    "\n",
    "# LinearRegression\n",
    "model = LinearRegression()\n",
    "model.fit(X_train_selected,y_train)\n",
    "y_pred = model.predict(X_test_selected)\n",
    "mse = mean_squared_error(y_test, y_pred)\n",
    "print('lr_mse:',mse)\n",
    "\n",
    "# RandomForestRegression\n",
    "rf = RandomForestRegressor(random_state=9)\n",
    "rf.fit(X_train_selected, y_train)\n",
    "rf_pred = rf.predict(X_test_selected)\n",
    "rf_mse = mean_squared_error(y_test, rf_pred)\n",
    "print('rf_mse:', rf_mse)\n",
    "\n",
    "\n"
   ]
  },
  {
   "cell_type": "code",
   "execution_count": 82,
   "metadata": {},
   "outputs": [],
   "source": [
    "# GridSearchCV for RandomForestRegressor, which is the best result previous codes\n",
    "param_grid = {\n",
    "    'n_estimators' : [280,300,320],\n",
    "    'max_depth': list(range(25,35,2)),\n",
    "    'max_features': ['log2'],\n",
    "    'min_samples_split': [4,5,6],\n",
    "    'min_samples_leaf': [1,2,3,]\n",
    "}\n",
    "\n",
    "grid_search = RandomizedSearchCV(\n",
    "    estimator= RandomForestRegressor(random_state= 42),\n",
    "    param_distributions= param_grid, scoring = 'neg_mean_squared_error', cv =4, n_jobs=-1, n_iter= 50\n",
    ")\n",
    "\n",
    "grid_search.fit(X_train_selected, y_train)\n",
    "\n",
    "best_model = grid_search.best_estimator_\n",
    "test_pred = best_model.predict(X_test_selected)\n"
   ]
  },
  {
   "cell_type": "code",
   "execution_count": 83,
   "metadata": {},
   "outputs": [
    {
     "name": "stdout",
     "output_type": "stream",
     "text": [
      "Cross-Validation MSE Scores: [2.49968439 2.41575684 2.51630104 2.50400814 2.42026192]\n",
      "Test MSE: 2.3715675666236855\n",
      "Best score -2.544318748327864\n",
      "Best Parameters: {'n_estimators': 320, 'min_samples_split': 4, 'min_samples_leaf': 1, 'max_features': 'log2', 'max_depth': 29}\n",
      "R² Score: 0.665956193056652\n"
     ]
    }
   ],
   "source": [
    "cross_val_scores = cross_val_score(\n",
    "    best_model,                \n",
    "    X_train_selected,           \n",
    "    y_train,                   \n",
    "    scoring='neg_mean_squared_error',  \n",
    "    cv=5                        \n",
    ")\n",
    "\n",
    "mse_scores = -cross_val_scores\n",
    "print('Cross-Validation MSE Scores:', mse_scores)\n",
    "\n",
    "test_mse = mean_squared_error(y_test, test_pred)\n",
    "print('Test MSE:', test_mse)\n",
    "print('Best score', grid_search.best_score_)\n",
    "print('Best Parameters:', grid_search.best_params_)\n",
    "\n",
    "r2 = r2_score(y_test, test_pred)\n",
    "print('R² Score:', r2)\n"
   ]
  },
  {
   "cell_type": "code",
   "execution_count": 84,
   "metadata": {},
   "outputs": [
    {
     "name": "stdout",
     "output_type": "stream",
     "text": [
      "             Feature  Importance\n",
      "0             amount    0.588119\n",
      "2             length    0.324746\n",
      "1       release_year    0.060422\n",
      "5  behind_the_scenes    0.011529\n",
      "3              NC-17    0.007753\n",
      "4              PG-13    0.007431\n"
     ]
    }
   ],
   "source": [
    "# which factors influence strongly?\n",
    "importances = best_model.feature_importances_\n",
    "features = X_train_selected.columns\n",
    "feature_importance_df = pd.DataFrame({\n",
    "    'Feature': features,\n",
    "    'Importance': importances\n",
    "}).sort_values(by='Importance', ascending=False)\n",
    "\n",
    "print(feature_importance_df)"
   ]
  },
  {
   "cell_type": "markdown",
   "metadata": {},
   "source": [
    "Based on the result, 'The amount paid by the customer for renting the DVD' influence to the rental date"
   ]
  },
  {
   "cell_type": "code",
   "execution_count": null,
   "metadata": {},
   "outputs": [
    {
     "data": {
      "image/png": "[encoded data removed]",
      "text/plain": [
       "<Figure size 640x480 with 1 Axes>"
      ]
     },
     "metadata": {},
     "output_type": "display_data"
    },
    {
     "data": {
      "image/png": "[encoded data removed]",
      "text/plain": [
       "<Figure size 640x480 with 1 Axes>"
      ]
     },
     "metadata": {},
     "output_type": "display_data"
    },
    {
     "data": {
      "image/png": "[encoded data removed]",
      "text/plain": [
       "<Figure size 640x480 with 1 Axes>"
      ]
     },
     "metadata": {},
     "output_type": "display_data"
    }
   ],
   "source": [
    "cv_results = pd.DataFrame(grid_search.cv_results_)\n",
    "\n",
    "plt.scatter(x = 'param_max_depth', y= 'mean_test_score', data=cv_results )\n",
    "plt.show()\n",
    "\n",
    "plt.scatter(x = 'param_n_estimators', y= 'mean_test_score', data=cv_results )\n",
    "plt.show()\n",
    "\n",
    "plt.scatter(x = 'param_max_features', y= 'mean_test_score', data=cv_results )\n",
    "plt.show()\n"
   ]
  }
 ],
 "metadata": {
  "kernelspec": {
   "display_name": "base",
   "language": "python",
   "name": "python3"
  },
  "language_info": {
   "codemirror_mode": {
    "name": "ipython",
    "version": 3
   },
   "file_extension": ".py",
   "mimetype": "text/x-python",
   "name": "python",
   "nbconvert_exporter": "python",
   "pygments_lexer": "ipython3",
   "version": "3.12.7"
  }
 },
 "nbformat": 4,
 "nbformat_minor": 2
}
