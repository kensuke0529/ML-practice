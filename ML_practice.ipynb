{
 "cells": [
  {
   "cell_type": "markdown",
   "metadata": {},
   "source": [
    "A DVD rental company needs your help! They want to figure out how many days a customer will rent a DVD for based on some features and has approached you for help. They want you to try out some regression models which will help predict the number of days a customer will rent a DVD for. The company wants a model which yeilds a MSE of 3 or less on a test set. The model you make will help the company become more efficient inventory planning.\n",
    "\n",
    "The data they provided is in the csv file `rental_info.csv`. It has the following features:\n",
    "- `\"rental_date\"`: The date (and time) the customer rents the DVD.\n",
    "- `\"return_date\"`: The date (and time) the customer returns the DVD.\n",
    "- `\"amount\"`: The amount paid by the customer for renting the DVD.\n",
    "- `\"amount_2\"`: The square of `\"amount\"`.\n",
    "- `\"rental_rate\"`: The rate at which the DVD is rented for.\n",
    "- `\"rental_rate_2\"`: The square of `\"rental_rate\"`.\n",
    "- `\"release_year\"`: The year the movie being rented was released.\n",
    "- `\"length\"`: Lenght of the movie being rented, in minuites.\n",
    "- `\"length_2\"`: The square of `\"length\"`.\n",
    "- `\"replacement_cost\"`: The amount it will cost the company to replace the DVD.\n",
    "- `\"special_features\"`: Any special features, for example trailers/deleted scenes that the DVD also has.\n",
    "- `\"NC-17\"`, `\"PG\"`, `\"PG-13\"`, `\"R\"`: These columns are dummy variables of the rating of the movie. It takes the value 1 if the move is rated as the column name and 0 otherwise. For your convinience, the reference dummy has already been dropped."
   ]
  },
  {
   "cell_type": "code",
   "execution_count": 2,
   "metadata": {},
   "outputs": [],
   "source": [
    "import pandas as pd\n",
    "import numpy as np\n",
    "\n",
    "from sklearn.model_selection import train_test_split\n",
    "from sklearn.metrics import mean_squared_error\n",
    "from sklearn.linear_model import Lasso\n",
    "from sklearn.linear_model import LinearRegression\n",
    "from sklearn.ensemble import RandomForestRegressor\n",
    "\n",
    "\n",
    "\n",
    "# Import any additional modules and start coding below\n",
    "df = pd.read_csv('rental_info.csv')\n",
    "\n",
    "# to calculate rental length days, change datatype to datetime format\n",
    "df['rental_date'] = pd.to_datetime(df['rental_date'])\n",
    "df['return_date'] = pd.to_datetime(df['return_date'])\n",
    "\n",
    "#calculate date diff\n",
    "df['rental_length_days'] = (df['return_date'] - df['rental_date']).dt.days\n",
    "\n",
    "# adding dummy variables using special features column\n",
    "df['deleted_scenes'] = np.where(df['special_features'].str.contains(\"Deleted Scenes\"),1,0)\n",
    "df['behind_the_scenes'] = np.where(df['special_features'].str.contains(\"Behind the Scenes\"),1,0)\n",
    "\n",
    "# Separate target data from df and drop redundant columns\n",
    "X = df.drop(['special_features','rental_date','return_date','rental_length_days'], axis=1)\n",
    "y = df['rental_length_days']"
   ]
  },
  {
   "cell_type": "code",
   "execution_count": 3,
   "metadata": {},
   "outputs": [
    {
     "name": "stdout",
     "output_type": "stream",
     "text": [
      "4.846638768993796\n",
      "rf_mse 2.3608479570462744\n"
     ]
    }
   ],
   "source": [
    "# split data into train and test data\n",
    "X_train, X_test, y_train , y_test = train_test_split(X, y, test_size= 0.2, random_state= 9)\n",
    "\n",
    "# Performing feature selection\n",
    "lasso = Lasso(alpha=0.01, random_state=9)  \n",
    "lasso.fit(X_train, y_train)\n",
    "\n",
    "lasso_coef = lasso.coef_\n",
    "#print(lasso_coef)\n",
    " \n",
    "X_train_selected = X_train.loc[:, lasso_coef > 0]\n",
    "X_test_selected = X_test.loc[:, lasso_coef > 0]\n",
    "\n",
    "# LinearRegression\n",
    "model = LinearRegression()\n",
    "model.fit(X_train_selected,y_train)\n",
    "y_pred = model.predict(X_test_selected)\n",
    "mse = mean_squared_error(y_test, y_pred)\n",
    "print(mse)\n",
    "\n",
    "# RandomForestRegression\n",
    "rf = RandomForestRegressor(random_state=9)\n",
    "rf.fit(X_train_selected, y_train)\n",
    "rf_pred = rf.predict(X_test_selected)\n",
    "\n",
    "rf_mse = mean_squared_error(y_test, rf_pred)\n",
    "print(\"rf_mse\", rf_mse)\n",
    "\n"
   ]
  }
 ],
 "metadata": {
  "kernelspec": {
   "display_name": "base",
   "language": "python",
   "name": "python3"
  },
  "language_info": {
   "codemirror_mode": {
    "name": "ipython",
    "version": 3
   },
   "file_extension": ".py",
   "mimetype": "text/x-python",
   "name": "python",
   "nbconvert_exporter": "python",
   "pygments_lexer": "ipython3",
   "version": "3.12.7"
  }
 },
 "nbformat": 4,
 "nbformat_minor": 2
}
