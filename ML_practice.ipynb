{
 "cells": [
  {
   "cell_type": "markdown",
   "metadata": {},
   "source": [
    "A DVD rental company needs your help! They want to figure out how many days a customer will rent a DVD for based on some features and has approached you for help. They want you to try out some regression models which will help predict the number of days a customer will rent a DVD for. The company wants a model which yeilds a MSE of 3 or less on a test set. The model you make will help the company become more efficient inventory planning.\n",
    "\n",
    "The data they provided is in the csv file `rental_info.csv`. It has the following features:\n",
    "- `\"rental_date\"`: The date (and time) the customer rents the DVD.\n",
    "- `\"return_date\"`: The date (and time) the customer returns the DVD.\n",
    "- `\"amount\"`: The amount paid by the customer for renting the DVD.\n",
    "- `\"amount_2\"`: The square of `\"amount\"`.\n",
    "- `\"rental_rate\"`: The rate at which the DVD is rented for.\n",
    "- `\"rental_rate_2\"`: The square of `\"rental_rate\"`.\n",
    "- `\"release_year\"`: The year the movie being rented was released.\n",
    "- `\"length\"`: Lenght of the movie being rented, in minuites.\n",
    "- `\"length_2\"`: The square of `\"length\"`.\n",
    "- `\"replacement_cost\"`: The amount it will cost the company to replace the DVD.\n",
    "- `\"special_features\"`: Any special features, for example trailers/deleted scenes that the DVD also has.\n",
    "- `\"NC-17\"`, `\"PG\"`, `\"PG-13\"`, `\"R\"`: These columns are dummy variables of the rating of the movie. It takes the value 1 if the move is rated as the column name and 0 otherwise. For your convinience, the reference dummy has already been dropped."
   ]
  },
  {
   "cell_type": "code",
   "execution_count": 59,
   "metadata": {},
   "outputs": [],
   "source": [
    "import pandas as pd\n",
    "import numpy as np\n",
    "from sklearn.model_selection import train_test_split\n",
    "from sklearn.metrics import mean_squared_error\n",
    "from sklearn.linear_model import Lasso\n",
    "from sklearn.linear_model import LinearRegression\n",
    "from sklearn.ensemble import RandomForestRegressor\n",
    "from sklearn.model_selection import GridSearchCV\n",
    "from sklearn.metrics import r2_score\n",
    "import matplotlib.pyplot as plt\n",
    "\n",
    "\n",
    "\n",
    "# Import any additional modules and start coding below\n",
    "df = pd.read_csv('rental_info.csv')\n",
    "\n",
    "# to calculate rental length days, change datatype to datetime format\n",
    "df['rental_date'] = pd.to_datetime(df['rental_date'])\n",
    "df['return_date'] = pd.to_datetime(df['return_date'])\n",
    "\n",
    "# calculate date diff\n",
    "df['rental_length_days'] = (df['return_date'] - df['rental_date']).dt.days\n",
    "\n",
    "# adding dummy variables using special features column\n",
    "df['deleted_scenes'] = np.where(df['special_features'].str.contains(\"Deleted Scenes\"),1,0)\n",
    "df['behind_the_scenes'] = np.where(df['special_features'].str.contains(\"Behind the Scenes\"),1,0)\n",
    "\n",
    "# Separate target data from df and drop redundant columns\n",
    "X = df.drop(['special_features','rental_date','return_date','rental_length_days'], axis=1)\n",
    "y = df['rental_length_days']"
   ]
  },
  {
   "cell_type": "code",
   "execution_count": 60,
   "metadata": {},
   "outputs": [
    {
     "name": "stdout",
     "output_type": "stream",
     "text": [
      "4.846638768993796\n",
      "rf_mse: 2.3608479570462744\n"
     ]
    }
   ],
   "source": [
    "# split data into train and test data\n",
    "X_train, X_test, y_train , y_test = train_test_split(X, y, test_size= 0.2, random_state= 9)\n",
    "\n",
    "# Performing feature selection\n",
    "lasso = Lasso(alpha=0.01, random_state=9)  \n",
    "lasso.fit(X_train, y_train)\n",
    "lasso_coef = lasso.coef_\n",
    " \n",
    "X_train_selected = X_train.loc[:, lasso_coef > 0]\n",
    "X_test_selected = X_test.loc[:, lasso_coef > 0]\n",
    "\n",
    "# LinearRegression\n",
    "model = LinearRegression()\n",
    "model.fit(X_train_selected,y_train)\n",
    "y_pred = model.predict(X_test_selected)\n",
    "mse = mean_squared_error(y_test, y_pred)\n",
    "print(mse)\n",
    "\n",
    "# RandomForestRegression\n",
    "rf = RandomForestRegressor(random_state=9)\n",
    "rf.fit(X_train_selected, y_train)\n",
    "rf_pred = rf.predict(X_test_selected)\n",
    "\n",
    "rf_mse = mean_squared_error(y_test, rf_pred)\n",
    "print(\"rf_mse:\", rf_mse)\n",
    "\n"
   ]
  },
  {
   "cell_type": "code",
   "execution_count": 61,
   "metadata": {},
   "outputs": [
    {
     "name": "stdout",
     "output_type": "stream",
     "text": [
      "-2.42489787356734\n"
     ]
    }
   ],
   "source": [
    "# GridSearchCV\n",
    "param_grid = {\n",
    "    'n_estimators' : [50,100,200,300],\n",
    "    'max_depth': list(range(5,26,2)),\n",
    "    'max_features': ['log2' , 'sqrt']\n",
    "}\n",
    "\n",
    "grid_search = GridSearchCV(\n",
    "    estimator= RandomForestRegressor(random_state= 42),\n",
    "    param_grid= param_grid, scoring = 'neg_mean_squared_error', cv =5, n_jobs=-1\n",
    ")\n",
    "\n",
    "grid_search.fit(X_train_selected, y_train)\n",
    "print(grid_search.best_score_)\n",
    "\n",
    "best_model = grid_search.best_estimator_\n",
    "test_pred = best_model.predict(X_test_selected)"
   ]
  },
  {
   "cell_type": "code",
   "execution_count": 62,
   "metadata": {},
   "outputs": [
    {
     "name": "stdout",
     "output_type": "stream",
     "text": [
      "Test MSE: 2.340946436680045\n",
      "R² Score: 0.6702692891552982\n"
     ]
    }
   ],
   "source": [
    "test_mse = mean_squared_error(y_test, test_pred)\n",
    "print(\"Test MSE:\", test_mse)\n",
    "\n",
    "r2 = r2_score(y_test, test_pred)\n",
    "print(\"R² Score:\", r2)"
   ]
  },
  {
   "cell_type": "code",
   "execution_count": 63,
   "metadata": {},
   "outputs": [
    {
     "name": "stdout",
     "output_type": "stream",
     "text": [
      "             Feature  Importance\n",
      "0             amount    0.581651\n",
      "2             length    0.331657\n",
      "1       release_year    0.059212\n",
      "5  behind_the_scenes    0.011384\n",
      "3              NC-17    0.008273\n",
      "4              PG-13    0.007823\n"
     ]
    }
   ],
   "source": [
    "# which factors influence strongly?\n",
    "\n",
    "importances = best_model.feature_importances_\n",
    "features = X_train_selected.columns\n",
    "feature_importance_df = pd.DataFrame({\n",
    "    'Feature': features,\n",
    "    'Importance': importances\n",
    "}).sort_values(by='Importance', ascending=False)\n",
    "\n",
    "print(feature_importance_df)"
   ]
  },
  {
   "cell_type": "markdown",
   "metadata": {},
   "source": [
    "Based on the result, 'The amount paid by the customer for renting the DVD' influence to the rental date"
   ]
  },
  {
   "cell_type": "code",
   "execution_count": 64,
   "metadata": {},
   "outputs": [
    {
     "data": {
      "image/png": "[encoded data removed]",
      "text/plain": [
       "<Figure size 640x480 with 1 Axes>"
      ]
     },
     "metadata": {},
     "output_type": "display_data"
    },
    {
     "data": {
      "image/png": "[encoded data removed]",
      "text/plain": [
       "<Figure size 640x480 with 1 Axes>"
      ]
     },
     "metadata": {},
     "output_type": "display_data"
    },
    {
     "data": {
      "image/png": "[encoded data removed]",
      "text/plain": [
       "<Figure size 640x480 with 1 Axes>"
      ]
     },
     "metadata": {},
     "output_type": "display_data"
    }
   ],
   "source": [
    "cv_results = pd.DataFrame(grid_search.cv_results_)\n",
    "\n",
    "plt.scatter(x = 'param_max_depth', y= 'mean_test_score', data=cv_results )\n",
    "plt.show()\n",
    "\n",
    "plt.scatter(x = 'param_n_estimators', y= 'mean_test_score', data=cv_results )\n",
    "plt.show()\n",
    "\n",
    "plt.scatter(x = 'param_max_features', y= 'mean_test_score', data=cv_results )\n",
    "plt.show()\n"
   ]
  },
  {
   "cell_type": "code",
   "execution_count": 65,
   "metadata": {},
   "outputs": [
    {
     "name": "stdout",
     "output_type": "stream",
     "text": [
      "   mean_fit_time  std_fit_time  mean_score_time  std_score_time  \\\n",
      "0       0.222810      0.006971         0.009948        0.000672   \n",
      "1       0.500163      0.033455         0.039341        0.006615   \n",
      "2       1.602458      0.128642         0.059415        0.012570   \n",
      "3       2.252319      0.126029         0.100862        0.031912   \n",
      "4       0.362372      0.045593         0.015628        0.009046   \n",
      "\n",
      "   param_max_depth param_max_features  param_n_estimators  \\\n",
      "0                5               log2                  50   \n",
      "1                5               log2                 100   \n",
      "2                5               log2                 200   \n",
      "3                5               log2                 300   \n",
      "4                5               sqrt                  50   \n",
      "\n",
      "                                              params  split0_test_score  \\\n",
      "0  {'max_depth': 5, 'max_features': 'log2', 'n_es...          -4.432589   \n",
      "1  {'max_depth': 5, 'max_features': 'log2', 'n_es...          -4.419602   \n",
      "2  {'max_depth': 5, 'max_features': 'log2', 'n_es...          -4.415020   \n",
      "3  {'max_depth': 5, 'max_features': 'log2', 'n_es...          -4.416178   \n",
      "4  {'max_depth': 5, 'max_features': 'sqrt', 'n_es...          -4.432589   \n",
      "\n",
      "   split1_test_score  split2_test_score  split3_test_score  split4_test_score  \\\n",
      "0          -4.269732          -4.462301          -4.186313          -4.339998   \n",
      "1          -4.247523          -4.450139          -4.201393          -4.302594   \n",
      "2          -4.259288          -4.425656          -4.207278          -4.292407   \n",
      "3          -4.255674          -4.435311          -4.218364          -4.285929   \n",
      "4          -4.269732          -4.462301          -4.186313          -4.339998   \n",
      "\n",
      "   mean_test_score  std_test_score  rank_test_score  \n",
      "0        -4.338187        0.102050               87  \n",
      "1        -4.324250        0.096322               85  \n",
      "2        -4.319930        0.086424               81  \n",
      "3        -4.322291        0.087349               83  \n",
      "4        -4.338187        0.102050               87  \n"
     ]
    }
   ],
   "source": [
    "print(cv_results.head())\n"
   ]
  }
 ],
 "metadata": {
  "kernelspec": {
   "display_name": "base",
   "language": "python",
   "name": "python3"
  },
  "language_info": {
   "codemirror_mode": {
    "name": "ipython",
    "version": 3
   },
   "file_extension": ".py",
   "mimetype": "text/x-python",
   "name": "python",
   "nbconvert_exporter": "python",
   "pygments_lexer": "ipython3",
   "version": "3.12.7"
  }
 },
 "nbformat": 4,
 "nbformat_minor": 2
}
