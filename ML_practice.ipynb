{
 "cells": [
  {
   "cell_type": "markdown",
   "metadata": {},
   "source": [
    "A DVD rental company needs your help! They want to figure out how many days a customer will rent a DVD for based on some features and has approached you for help. They want you to try out some regression models which will help predict the number of days a customer will rent a DVD for. The company wants a model which yeilds a MSE of 3 or less on a test set. The model you make will help the company become more efficient inventory planning.\n",
    "\n",
    "The data they provided is in the csv file `rental_info.csv`. It has the following features:\n",
    "- `\"rental_date\"`: The date (and time) the customer rents the DVD.\n",
    "- `\"return_date\"`: The date (and time) the customer returns the DVD.\n",
    "- `\"amount\"`: The amount paid by the customer for renting the DVD.\n",
    "- `\"amount_2\"`: The square of `\"amount\"`.\n",
    "- `\"rental_rate\"`: The rate at which the DVD is rented for.\n",
    "- `\"rental_rate_2\"`: The square of `\"rental_rate\"`.\n",
    "- `\"release_year\"`: The year the movie being rented was released.\n",
    "- `\"length\"`: Lenght of the movie being rented, in minuites.\n",
    "- `\"length_2\"`: The square of `\"length\"`.\n",
    "- `\"replacement_cost\"`: The amount it will cost the company to replace the DVD.\n",
    "- `\"special_features\"`: Any special features, for example trailers/deleted scenes that the DVD also has.\n",
    "- `\"NC-17\"`, `\"PG\"`, `\"PG-13\"`, `\"R\"`: These columns are dummy variables of the rating of the movie. It takes the value 1 if the move is rated as the column name and 0 otherwise. For your convinience, the reference dummy has already been dropped."
   ]
  },
  {
   "cell_type": "code",
   "execution_count": 120,
   "metadata": {},
   "outputs": [],
   "source": [
    "import pandas as pd\n",
    "import numpy as np\n",
    "from sklearn.model_selection import train_test_split, RandomizedSearchCV,GridSearchCV, cross_val_score\n",
    "from sklearn.metrics import mean_squared_error, r2_score\n",
    "from sklearn.linear_model import LassoCV, LinearRegression\n",
    "from sklearn.ensemble import RandomForestRegressor\n",
    "import matplotlib.pyplot as plt\n",
    "import xgboost as xgb\n",
    "\n",
    "\n",
    "\n",
    "# Import any additional modules and start coding below\n",
    "df = pd.read_csv('rental_info.csv')\n",
    "\n",
    "# to calculate rental length days, change datatype to datetime format\n",
    "df['rental_date'] = pd.to_datetime(df['rental_date'])\n",
    "df['return_date'] = pd.to_datetime(df['return_date'])\n",
    "\n",
    "# calculate date diff\n",
    "df['rental_length_days'] = (df['return_date'] - df['rental_date']).dt.days\n",
    "\n",
    "# adding dummy variables using special features column\n",
    "df['deleted_scenes'] = np.where(df['special_features'].fillna('').str.contains(\"Deleted Scenes\"),1,0)\n",
    "df['behind_the_scenes'] = np.where(df['special_features'].fillna('').str.contains(\"Behind the Scenes\"),1,0)\n",
    "\n",
    "# Separate target data from df and drop redundant columns\n",
    "X = df.drop(['special_features','rental_date','return_date','rental_length_days'], axis=1)\n",
    "y = df['rental_length_days']"
   ]
  },
  {
   "cell_type": "code",
   "execution_count": 121,
   "metadata": {},
   "outputs": [
    {
     "name": "stdout",
     "output_type": "stream",
     "text": [
      "lr_mse: 3.064468760922549\n",
      "rf_mse: 2.2889073882823237\n"
     ]
    }
   ],
   "source": [
    "# split data into train and test data\n",
    "X_train, X_test, y_train , y_test = train_test_split(X, y, test_size= 0.2, random_state= 42)\n",
    "\n",
    "# Performing feature selection\n",
    "lasso = LassoCV(cv=5, random_state=42)  \n",
    "lasso.fit(X_train, y_train)\n",
    "selected_features = X_train.columns[lasso.coef_ != 0] \n",
    "\n",
    "X_train_selected = X_train[selected_features]\n",
    "X_test_selected = X_test[selected_features]\n",
    "\n",
    "# LinearRegression\n",
    "model = LinearRegression()\n",
    "model.fit(X_train_selected,y_train)\n",
    "y_pred = model.predict(X_test_selected)\n",
    "mse = mean_squared_error(y_test, y_pred)\n",
    "print('lr_mse:',mse)\n",
    "\n",
    "# RandomForestRegression\n",
    "rf = RandomForestRegressor(random_state=9)\n",
    "rf.fit(X_train_selected, y_train)\n",
    "rf_pred = rf.predict(X_test_selected)\n",
    "rf_mse = mean_squared_error(y_test, rf_pred)\n",
    "print('rf_mse:', rf_mse)\n",
    "\n"
   ]
  },
  {
   "cell_type": "code",
   "execution_count": 122,
   "metadata": {},
   "outputs": [
    {
     "name": "stdout",
     "output_type": "stream",
     "text": [
      "Best score -2.3922632903342835\n",
      "Best Parameters: {'n_estimators': 280, 'min_samples_split': 6, 'min_samples_leaf': 1, 'max_features': 'log2', 'max_depth': 25}\n",
      "Test MSE: 2.2801898006235524\n",
      "R² Score: 0.6680666062104506\n"
     ]
    }
   ],
   "source": [
    "# GridSearchCV for RandomForestRegressor, which is the best result previous codes\n",
    "param_grid = {\n",
    "    'n_estimators' : [280,300,320],\n",
    "    'max_depth': list(range(25,33,2)),\n",
    "    'max_features': ['log2'],\n",
    "    'min_samples_split': [4,5,6],\n",
    "    'min_samples_leaf': [1,2,3,]\n",
    "}\n",
    "\n",
    "grid_search = RandomizedSearchCV(\n",
    "    estimator= RandomForestRegressor(random_state= 42),\n",
    "    param_distributions= param_grid, scoring = 'neg_mean_squared_error', cv =4, n_jobs=-1, n_iter= 50\n",
    ")\n",
    "\n",
    "grid_search.fit(X_train_selected, y_train)\n",
    "print('Best score', grid_search.best_score_)\n",
    "print('Best Parameters:', grid_search.best_params_)\n",
    "\n",
    "best_model = grid_search.best_estimator_\n",
    "test_pred = best_model.predict(X_test_selected)\n",
    "test_mse = mean_squared_error(y_test, test_pred)\n",
    "print('Test MSE:', test_mse)\n",
    "r2 = r2_score(y_test, test_pred)\n",
    "print('R² Score:', r2)"
   ]
  },
  {
   "cell_type": "markdown",
   "metadata": {},
   "source": [
    "memo\n",
    "\n",
    "cross_val_scores = cross_val_score(\n",
    "    best_model,                \n",
    "    X_train_selected,           \n",
    "    y_train,                   \n",
    "    scoring='neg_mean_squared_error',  \n",
    "    cv=5                        \n",
    ")\n",
    "\n",
    "mse_scores = -cross_val_scores\n",
    "print('Cross-Validation MSE Scores:', mse_scores)"
   ]
  },
  {
   "cell_type": "code",
   "execution_count": 124,
   "metadata": {},
   "outputs": [
    {
     "name": "stdout",
     "output_type": "stream",
     "text": [
      "Best Parameters: {'colsample_bytree': 1.0, 'learning_rate': 0.2, 'max_depth': 5, 'min_child_weight': 5, 'n_estimators': 300, 'subsample': 1.0}\n",
      "Best CV Score: 2.2504289286711425\n"
     ]
    }
   ],
   "source": [
    "# XGBoost\n",
    "xgb_model = xgb.XGBRegressor(random_state=42)\n",
    "\n",
    "param_grid_xgb = {\n",
    "    'max_depth': [3, 5, 7],\n",
    "    'min_child_weight': [1, 5, 10],\n",
    "    'subsample': [0.6, 0.8, 1.0],\n",
    "    'colsample_bytree': [0.6, 0.8, 1.0],\n",
    "    'learning_rate': [0.01, 0.1, 0.2],\n",
    "    'n_estimators': [100, 200, 300]\n",
    "}\n",
    "\n",
    "grid_search_xgb = GridSearchCV(\n",
    "    estimator=xgb_model,\n",
    "    param_grid=param_grid_xgb,\n",
    "    scoring='neg_mean_squared_error',\n",
    "    cv=5,\n",
    "    n_jobs=-1\n",
    ")\n",
    "\n",
    "grid_search_xgb.fit(X_train_selected, y_train)\n",
    "\n",
    "print(\"Best Parameters:\", grid_search_xgb.best_params_)\n",
    "print(\"Best CV Score:\", -grid_search_xgb.best_score_)"
   ]
  },
  {
   "cell_type": "code",
   "execution_count": 126,
   "metadata": {},
   "outputs": [
    {
     "name": "stdout",
     "output_type": "stream",
     "text": [
      "XGB Test MSE: 2.196753152968379\n",
      "XGB R² Score: 0.680212676525116\n"
     ]
    }
   ],
   "source": [
    "best_model_xgb = grid_search_xgb.best_estimator_\n",
    "test_pred_xgb = best_model_xgb.predict(X_test_selected)\n",
    "test_mse_xgb = mean_squared_error(y_test, test_pred_xgb)\n",
    "print('XGB Test MSE:', test_mse_xgb)\n",
    "r2 = r2_score(y_test, test_pred_xgb)\n",
    "print('XGB R² Score:', r2)"
   ]
  },
  {
   "cell_type": "code",
   "execution_count": 127,
   "metadata": {},
   "outputs": [
    {
     "name": "stdout",
     "output_type": "stream",
     "text": [
      "         Feature  Importance\n",
      "0         amount    0.564583\n",
      "3  rental_rate_2    0.411410\n",
      "2       length_2    0.024007\n",
      "1       amount_2    0.000000\n"
     ]
    }
   ],
   "source": [
    "# which factors influence strongly?\n",
    "importances = best_model_xgb.feature_importances_\n",
    "features = X_train_selected.columns\n",
    "feature_importance_df = pd.DataFrame({\n",
    "    'Feature': features,\n",
    "    'Importance': importances\n",
    "}).sort_values(by='Importance', ascending=False)\n",
    "\n",
    "print(feature_importance_df)"
   ]
  },
  {
   "cell_type": "markdown",
   "metadata": {},
   "source": [
    "Based on the result, 'The amount paid by the customer for renting the DVD' influence to the rental date"
   ]
  },
  {
   "cell_type": "code",
   "execution_count": null,
   "metadata": {},
   "outputs": [
    {
     "data": {
      "image/png": "[encoded data removed]",
      "text/plain": [
       "<Figure size 640x480 with 1 Axes>"
      ]
     },
     "metadata": {},
     "output_type": "display_data"
    },
    {
     "data": {
      "image/png": "[encoded data removed]",
      "text/plain": [
       "<Figure size 640x480 with 1 Axes>"
      ]
     },
     "metadata": {},
     "output_type": "display_data"
    },
    {
     "data": {
      "image/png": "[encoded data removed]",
      "text/plain": [
       "<Figure size 640x480 with 1 Axes>"
      ]
     },
     "metadata": {},
     "output_type": "display_data"
    }
   ],
   "source": [
    "cv_results = pd.DataFrame(grid_search.cv_results_)\n",
    "\n",
    "plt.scatter(x = 'param_max_depth', y= 'mean_test_score', data=cv_results )\n",
    "plt.show()\n",
    "\n",
    "plt.scatter(x = 'param_n_estimators', y= 'mean_test_score', data=cv_results )\n",
    "plt.show()\n",
    "\n",
    "plt.scatter(x = 'param_max_features', y= 'mean_test_score', data=cv_results )\n",
    "plt.show()\n"
   ]
  }
 ],
 "metadata": {
  "kernelspec": {
   "display_name": "base",
   "language": "python",
   "name": "python3"
  },
  "language_info": {
   "codemirror_mode": {
    "name": "ipython",
    "version": 3
   },
   "file_extension": ".py",
   "mimetype": "text/x-python",
   "name": "python",
   "nbconvert_exporter": "python",
   "pygments_lexer": "ipython3",
   "version": "3.12.7"
  }
 },
 "nbformat": 4,
 "nbformat_minor": 2
}
