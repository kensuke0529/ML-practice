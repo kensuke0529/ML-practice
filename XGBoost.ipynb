{
 "cells": [
  {
   "cell_type": "code",
   "execution_count": 2,
   "metadata": {},
   "outputs": [],
   "source": [
    "import pandas as pd\n",
    "import numpy as np\n",
    "from sklearn.model_selection import train_test_split, RandomizedSearchCV, cross_val_score\n",
    "from sklearn.metrics import mean_squared_error, r2_score\n",
    "from sklearn.linear_model import LinearRegression, Lasso\n",
    "from sklearn.ensemble import RandomForestRegressor\n",
    "import matplotlib.pyplot as plt\n",
    "import xgboost as xgb\n",
    "\n",
    "\n",
    "\n",
    "# Import any additional modules and start coding below\n",
    "df = pd.read_csv('rental_info.csv')\n",
    "\n",
    "# to calculate rental length days, change datatype to datetime format\n",
    "df['rental_date'] = pd.to_datetime(df['rental_date'])\n",
    "df['return_date'] = pd.to_datetime(df['return_date'])\n",
    "\n",
    "# calculate date diff\n",
    "df['rental_length_days'] = (df['return_date'] - df['rental_date']).dt.days\n",
    "\n",
    "# adding dummy variables using special features column\n",
    "df['deleted_scenes'] = np.where(df['special_features'].str.contains(\"Deleted Scenes\"),1,0)\n",
    "df['behind_the_scenes'] = np.where(df['special_features'].str.contains(\"Behind the Scenes\"),1,0)\n",
    "\n",
    "# Separate target data from df and drop redundant columns\n",
    "X = df.drop(['special_features','rental_date','return_date','rental_length_days'], axis=1)\n",
    "y = df['rental_length_days']\n",
    "\n",
    "# split data into train and test data\n",
    "X_train, X_test, y_train , y_test = train_test_split(X, y, test_size= 0.2, random_state= 9)\n",
    "\n",
    "# Performing feature selection\n",
    "lasso = Lasso(alpha=0.01, random_state=9)  \n",
    "lasso.fit(X_train, y_train)\n",
    "lasso_coef = lasso.coef_\n",
    " \n",
    "X_train_selected = X_train.loc[:, lasso_coef > 0]\n",
    "X_test_selected = X_test.loc[:, lasso_coef > 0]"
   ]
  },
  {
   "cell_type": "markdown",
   "metadata": {},
   "source": []
  },
  {
   "cell_type": "code",
   "execution_count": 4,
   "metadata": {},
   "outputs": [
    {
     "name": "stdout",
     "output_type": "stream",
     "text": [
      "XGBoost MSE: 3.369071296484816\n"
     ]
    }
   ],
   "source": [
    "# XGBoost\n",
    "dtrain = xgb.DMatrix(X_train_selected, label=y_train)\n",
    "dtest = xgb.DMatrix(X_test_selected, label=y_test)\n",
    "\n",
    "params = {\n",
    "    'objective': 'reg:squarederror',  \n",
    "    'learning_rate': 0.15,\n",
    "    'max_depth': 5,\n",
    "    'seed': 9\n",
    "}\n",
    "\n",
    "xgb_model = xgb.train(params, dtrain, num_boost_round=100)\n",
    "xgb_pred = xgb_model.predict(dtest)\n",
    "xgb_mse = mean_squared_error(y_test, xgb_pred)\n",
    "print('XGBoost MSE:', xgb_mse)"
   ]
  }
 ],
 "metadata": {
  "kernelspec": {
   "display_name": "base",
   "language": "python",
   "name": "python3"
  },
  "language_info": {
   "codemirror_mode": {
    "name": "ipython",
    "version": 3
   },
   "file_extension": ".py",
   "mimetype": "text/x-python",
   "name": "python",
   "nbconvert_exporter": "python",
   "pygments_lexer": "ipython3",
   "version": "3.12.7"
  }
 },
 "nbformat": 4,
 "nbformat_minor": 2
}
